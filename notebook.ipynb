{
 "cells": [
  {
   "cell_type": "markdown",
   "id": "589fe37e-e764-4d71-9c3c-93c8b7acee79",
   "metadata": {},
   "source": [
    "![Alt text](https://imgur.com/orZWHly.png=80)\n",
    "source: @allison_horst https://github.com/allisonhorst/penguins"
   ]
  },
  {
   "cell_type": "markdown",
   "id": "d3fb84f2-0eda-4b73-95c0-5364f83e25bf",
   "metadata": {},
   "source": [
    "You have been asked to support a team of researchers who have been collecting data about penguins in Antartica! The data is available in csv-Format as `penguins.csv`\n",
    "\n",
    "**Origin of this data** : Data were collected and made available by Dr. Kristen Gorman and the Palmer Station, Antarctica LTER, a member of the Long Term Ecological Research Network.\n",
    "\n",
    "**The dataset consists of 5 columns.**\n",
    "\n",
    "Column | Description\n",
    "--- | ---\n",
    "culmen_length_mm | culmen length (mm)\n",
    "culmen_depth_mm | culmen depth (mm)\n",
    "flipper_length_mm | flipper length (mm)\n",
    "body_mass_g | body mass (g)\n",
    "sex | penguin sex\n",
    "\n",
    "Unfortunately, they have not been able to record the species of penguin, but they know that there are **at least three** species that are native to the region: **Adelie**, **Chinstrap**, and **Gentoo**.  Your task is to apply your data science skills to help them identify groups in the dataset!"
   ]
  },
  {
   "cell_type": "code",
   "execution_count": 44,
   "id": "57295d13-5753-4f8d-aa96-cd6815f7cbd9",
   "metadata": {
    "executionCancelledAt": null,
    "executionTime": 24,
    "lastExecutedAt": 1717157062256,
    "lastExecutedByKernel": "58942c8c-0534-4896-9aa9-4b6e1191a459",
    "lastScheduledRunId": null,
    "lastSuccessfullyExecutedCode": "# Import Required Packages\nimport pandas as pd\nimport matplotlib.pyplot as plt\n\nfrom sklearn.cluster import KMeans\nfrom sklearn.preprocessing import StandardScaler\n\n# Loading and examining the dataset\npenguins_df = pd.read_csv(\"penguins.csv\")\npenguins_df.head()",
    "outputsMetadata": {
     "0": {
      "height": 238,
      "type": "dataFrame"
     }
    }
   },
   "outputs": [
    {
     "data": {
      "text/html": [
       "<div>\n",
       "<style scoped>\n",
       "    .dataframe tbody tr th:only-of-type {\n",
       "        vertical-align: middle;\n",
       "    }\n",
       "\n",
       "    .dataframe tbody tr th {\n",
       "        vertical-align: top;\n",
       "    }\n",
       "\n",
       "    .dataframe thead th {\n",
       "        text-align: right;\n",
       "    }\n",
       "</style>\n",
       "<table border=\"1\" class=\"dataframe\">\n",
       "  <thead>\n",
       "    <tr style=\"text-align: right;\">\n",
       "      <th></th>\n",
       "      <th>culmen_length_mm</th>\n",
       "      <th>culmen_depth_mm</th>\n",
       "      <th>flipper_length_mm</th>\n",
       "      <th>body_mass_g</th>\n",
       "      <th>sex</th>\n",
       "    </tr>\n",
       "  </thead>\n",
       "  <tbody>\n",
       "    <tr>\n",
       "      <th>0</th>\n",
       "      <td>39.1</td>\n",
       "      <td>18.7</td>\n",
       "      <td>181.0</td>\n",
       "      <td>3750.0</td>\n",
       "      <td>MALE</td>\n",
       "    </tr>\n",
       "    <tr>\n",
       "      <th>1</th>\n",
       "      <td>39.5</td>\n",
       "      <td>17.4</td>\n",
       "      <td>186.0</td>\n",
       "      <td>3800.0</td>\n",
       "      <td>FEMALE</td>\n",
       "    </tr>\n",
       "    <tr>\n",
       "      <th>2</th>\n",
       "      <td>40.3</td>\n",
       "      <td>18.0</td>\n",
       "      <td>195.0</td>\n",
       "      <td>3250.0</td>\n",
       "      <td>FEMALE</td>\n",
       "    </tr>\n",
       "    <tr>\n",
       "      <th>3</th>\n",
       "      <td>36.7</td>\n",
       "      <td>19.3</td>\n",
       "      <td>193.0</td>\n",
       "      <td>3450.0</td>\n",
       "      <td>FEMALE</td>\n",
       "    </tr>\n",
       "    <tr>\n",
       "      <th>4</th>\n",
       "      <td>39.3</td>\n",
       "      <td>20.6</td>\n",
       "      <td>190.0</td>\n",
       "      <td>3650.0</td>\n",
       "      <td>MALE</td>\n",
       "    </tr>\n",
       "  </tbody>\n",
       "</table>\n",
       "</div>"
      ],
      "text/plain": [
       "   culmen_length_mm  culmen_depth_mm  flipper_length_mm  body_mass_g     sex\n",
       "0              39.1             18.7              181.0       3750.0    MALE\n",
       "1              39.5             17.4              186.0       3800.0  FEMALE\n",
       "2              40.3             18.0              195.0       3250.0  FEMALE\n",
       "3              36.7             19.3              193.0       3450.0  FEMALE\n",
       "4              39.3             20.6              190.0       3650.0    MALE"
      ]
     },
     "execution_count": 44,
     "metadata": {},
     "output_type": "execute_result"
    }
   ],
   "source": [
    "# Import Required Packages\n",
    "import pandas as pd\n",
    "import matplotlib.pyplot as plt\n",
    "from sklearn.cluster import KMeans\n",
    "from sklearn.preprocessing import StandardScaler\n",
    "\n",
    "# Loading and examining the dataset\n",
    "penguins_df = pd.read_csv(\"penguins.csv\")\n",
    "penguins_df.head()"
   ]
  },
  {
   "cell_type": "code",
   "execution_count": 45,
   "id": "2b80e1a0",
   "metadata": {},
   "outputs": [],
   "source": [
    "penguins_df = pd.get_dummies(penguins_df)\n",
    "\n"
   ]
  },
  {
   "cell_type": "code",
   "execution_count": 46,
   "id": "3a91ead6",
   "metadata": {},
   "outputs": [],
   "source": [
    "\n",
    "# se escalan los datos \n",
    "scaler = StandardScaler()\n",
    "X = scaler.fit_transform(penguins_df)\n",
    "# se pasan a dataframe, yo habia escalado los datos pero no los habia pasado  a un dataframe\n",
    "penguin_preprocessed = pd.DataFrame(data=X, columns=penguins_df.columns)\n",
    "\n"
   ]
  },
  {
   "cell_type": "code",
   "execution_count": 47,
   "id": "b80b5468",
   "metadata": {},
   "outputs": [],
   "source": [
    "# mi primera funcion \n",
    "\n",
    "\n",
    "\n",
    "def titulos(n_x, n_y, n_t):\n",
    "    \"\"\"\n",
    "    Configura los títulos y etiquetas de un gráfico cartesiano utilizando matplotlib.\n",
    "\n",
    "    Parámetros:\n",
    "    -----------\n",
    "    n_x : str\n",
    "        Título para el eje X.\n",
    "    n_y : str\n",
    "        Título para el eje Y.\n",
    "    n_t : str\n",
    "        Título principal del gráfico.\n",
    "\n",
    "    Retorna:\n",
    "    --------\n",
    "    None\n",
    "        Esta función no devuelve nada, solo configura las etiquetas y el título del gráfico.\n",
    "\n",
    "    Ejemplo de uso:\n",
    "    ---------------\n",
    "    >>> import matplotlib.pyplot as plt\n",
    "    >>> plt.plot([1, 2, 3], [4, 5, 6])  # Gráfico de ejemplo\n",
    "    >>> titulos(\"Eje X\", \"Eje Y\", \"Mi Gráfico\")\n",
    "    >>> plt.show()\n",
    "    \"\"\"\n",
    "    plt.xlabel(n_x)\n",
    "    plt.ylabel(n_y)\n",
    "    plt.title(n_t)\n",
    "\n"
   ]
  },
  {
   "cell_type": "code",
   "execution_count": 48,
   "id": "3aebee82",
   "metadata": {},
   "outputs": [
    {
     "name": "stderr",
     "output_type": "stream",
     "text": [
      "c:\\Users\\dmcar\\miniconda3\\Lib\\site-packages\\sklearn\\cluster\\_kmeans.py:1446: UserWarning: KMeans is known to have a memory leak on Windows with MKL, when there are less chunks than available threads. You can avoid it by setting the environment variable OMP_NUM_THREADS=2.\n",
      "  warnings.warn(\n",
      "c:\\Users\\dmcar\\miniconda3\\Lib\\site-packages\\sklearn\\cluster\\_kmeans.py:1446: UserWarning: KMeans is known to have a memory leak on Windows with MKL, when there are less chunks than available threads. You can avoid it by setting the environment variable OMP_NUM_THREADS=2.\n",
      "  warnings.warn(\n",
      "c:\\Users\\dmcar\\miniconda3\\Lib\\site-packages\\sklearn\\cluster\\_kmeans.py:1446: UserWarning: KMeans is known to have a memory leak on Windows with MKL, when there are less chunks than available threads. You can avoid it by setting the environment variable OMP_NUM_THREADS=2.\n",
      "  warnings.warn(\n",
      "c:\\Users\\dmcar\\miniconda3\\Lib\\site-packages\\sklearn\\cluster\\_kmeans.py:1446: UserWarning: KMeans is known to have a memory leak on Windows with MKL, when there are less chunks than available threads. You can avoid it by setting the environment variable OMP_NUM_THREADS=2.\n",
      "  warnings.warn(\n",
      "c:\\Users\\dmcar\\miniconda3\\Lib\\site-packages\\sklearn\\cluster\\_kmeans.py:1446: UserWarning: KMeans is known to have a memory leak on Windows with MKL, when there are less chunks than available threads. You can avoid it by setting the environment variable OMP_NUM_THREADS=2.\n",
      "  warnings.warn(\n",
      "c:\\Users\\dmcar\\miniconda3\\Lib\\site-packages\\sklearn\\cluster\\_kmeans.py:1446: UserWarning: KMeans is known to have a memory leak on Windows with MKL, when there are less chunks than available threads. You can avoid it by setting the environment variable OMP_NUM_THREADS=2.\n",
      "  warnings.warn(\n",
      "c:\\Users\\dmcar\\miniconda3\\Lib\\site-packages\\sklearn\\cluster\\_kmeans.py:1446: UserWarning: KMeans is known to have a memory leak on Windows with MKL, when there are less chunks than available threads. You can avoid it by setting the environment variable OMP_NUM_THREADS=2.\n",
      "  warnings.warn(\n",
      "c:\\Users\\dmcar\\miniconda3\\Lib\\site-packages\\sklearn\\cluster\\_kmeans.py:1446: UserWarning: KMeans is known to have a memory leak on Windows with MKL, when there are less chunks than available threads. You can avoid it by setting the environment variable OMP_NUM_THREADS=2.\n",
      "  warnings.warn(\n",
      "c:\\Users\\dmcar\\miniconda3\\Lib\\site-packages\\sklearn\\cluster\\_kmeans.py:1446: UserWarning: KMeans is known to have a memory leak on Windows with MKL, when there are less chunks than available threads. You can avoid it by setting the environment variable OMP_NUM_THREADS=2.\n",
      "  warnings.warn(\n"
     ]
    },
    {
     "data": {
      "image/png": "[encoded data removed]",
      "text/plain": [
       "<Figure size 640x480 with 1 Axes>"
      ]
     },
     "metadata": {},
     "output_type": "display_data"
    }
   ],
   "source": [
    "import os\n",
    "os.environ[\"OMP_NUM_THREADS\"] = \"2\"\n",
    "\n",
    "inertia = []\n",
    "\n",
    "for k in range(1,10):\n",
    "    kmeans = KMeans(n_clusters=k, random_state=42).fit(penguin_preprocessed)\n",
    "    inertia.append(kmeans.inertia_)\n",
    "plt.plot(range(1, 10), inertia, marker=0)\n",
    "\n",
    "titulos(n_x='Number of custers',n_y='Inertia',n_t='Elbow Method')\n",
    "#plt.xlabel('Number of custers')\n",
    "#plt.ylabel('Inertia')\n",
    "#plt.title('Elbow Method')\n",
    "plt.show()\n",
    "\n"
   ]
  },
  {
   "cell_type": "code",
   "execution_count": 49,
   "id": "a521ef8a",
   "metadata": {},
   "outputs": [
    {
     "name": "stderr",
     "output_type": "stream",
     "text": [
      "c:\\Users\\dmcar\\miniconda3\\Lib\\site-packages\\sklearn\\cluster\\_kmeans.py:1446: UserWarning: KMeans is known to have a memory leak on Windows with MKL, when there are less chunks than available threads. You can avoid it by setting the environment variable OMP_NUM_THREADS=2.\n",
      "  warnings.warn(\n"
     ]
    }
   ],
   "source": [
    "# se elije el numero de cluster despues del recorrer \n",
    "n_cluster = 4 \n",
    "\n",
    "kmeans = KMeans(n_clusters=n_cluster,random_state=42).fit(penguin_preprocessed)\n",
    "\n",
    "# se agrega la etiqueta al dataset original\n",
    "penguins_df['label'] = kmeans.labels_\n",
    "\n"
   ]
  },
  {
   "cell_type": "code",
   "execution_count": 50,
   "id": "9757bf0a",
   "metadata": {},
   "outputs": [
    {
     "data": {
      "image/png": "[encoded data removed]",
      "text/plain": [
       "<Figure size 640x480 with 1 Axes>"
      ]
     },
     "metadata": {},
     "output_type": "display_data"
    }
   ],
   "source": [
    "plt.scatter( penguins_df['label'],\n",
    "             penguins_df['culmen_length_mm'], \n",
    "             c=kmeans.labels_, \n",
    "             cmap='viridis'\n",
    "             )\n",
    "plt.xlabel('Cluster')\n",
    "plt.ylabel('culmen_length_mm')\n",
    "plt.xticks(range(int(penguins_df['label'].min()), int(penguins_df['label'].max())+1)) #registrar el numero de cluster por barra\n",
    "plt.title(f'K- Means Clustering (K= {n_cluster})')\n",
    "plt.show()"
   ]
  },
  {
   "cell_type": "code",
   "execution_count": 51,
   "id": "a25187ca",
   "metadata": {},
   "outputs": [
    {
     "data": {
      "text/html": [
       "<div>\n",
       "<style scoped>\n",
       "    .dataframe tbody tr th:only-of-type {\n",
       "        vertical-align: middle;\n",
       "    }\n",
       "\n",
       "    .dataframe tbody tr th {\n",
       "        vertical-align: top;\n",
       "    }\n",
       "\n",
       "    .dataframe thead th {\n",
       "        text-align: right;\n",
       "    }\n",
       "</style>\n",
       "<table border=\"1\" class=\"dataframe\">\n",
       "  <thead>\n",
       "    <tr style=\"text-align: right;\">\n",
       "      <th></th>\n",
       "      <th>culmen_length_mm</th>\n",
       "      <th>culmen_depth_mm</th>\n",
       "      <th>flipper_length_mm</th>\n",
       "    </tr>\n",
       "    <tr>\n",
       "      <th>label</th>\n",
       "      <th></th>\n",
       "      <th></th>\n",
       "      <th></th>\n",
       "    </tr>\n",
       "  </thead>\n",
       "  <tbody>\n",
       "    <tr>\n",
       "      <th>0</th>\n",
       "      <td>43.878302</td>\n",
       "      <td>19.111321</td>\n",
       "      <td>194.764151</td>\n",
       "    </tr>\n",
       "    <tr>\n",
       "      <th>1</th>\n",
       "      <td>45.563793</td>\n",
       "      <td>14.237931</td>\n",
       "      <td>212.706897</td>\n",
       "    </tr>\n",
       "    <tr>\n",
       "      <th>2</th>\n",
       "      <td>40.217757</td>\n",
       "      <td>17.611215</td>\n",
       "      <td>189.046729</td>\n",
       "    </tr>\n",
       "    <tr>\n",
       "      <th>3</th>\n",
       "      <td>49.473770</td>\n",
       "      <td>15.718033</td>\n",
       "      <td>221.540984</td>\n",
       "    </tr>\n",
       "  </tbody>\n",
       "</table>\n",
       "</div>"
      ],
      "text/plain": [
       "       culmen_length_mm  culmen_depth_mm  flipper_length_mm\n",
       "label                                                      \n",
       "0             43.878302        19.111321         194.764151\n",
       "1             45.563793        14.237931         212.706897\n",
       "2             40.217757        17.611215         189.046729\n",
       "3             49.473770        15.718033         221.540984"
      ]
     },
     "execution_count": 51,
     "metadata": {},
     "output_type": "execute_result"
    }
   ],
   "source": [
    "# valores promedios por cluster\n",
    "\n",
    "numeric_columns = ['culmen_length_mm', 'culmen_depth_mm', 'flipper_length_mm','label']\n",
    "\n",
    "stat_penguins= penguins_df[numeric_columns].groupby('label').mean()\n",
    "\n",
    "stat_penguins"
   ]
  }
 ],
 "metadata": {
  "colab": {
   "name": "Welcome to DataCamp Workspaces.ipynb",
   "provenance": []
  },
  "editor": "DataLab",
  "kernelspec": {
   "display_name": "base",
   "language": "python",
   "name": "python3"
  },
  "language_info": {
   "codemirror_mode": {
    "name": "ipython",
    "version": 3
   },
   "file_extension": ".py",
   "mimetype": "text/x-python",
   "name": "python",
   "nbconvert_exporter": "python",
   "pygments_lexer": "ipython3",
   "version": "3.11.5"
  }
 },
 "nbformat": 4,
 "nbformat_minor": 5
}
